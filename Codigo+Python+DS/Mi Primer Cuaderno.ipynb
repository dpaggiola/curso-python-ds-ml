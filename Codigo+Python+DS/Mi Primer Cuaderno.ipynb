{
 "cells": [
  {
   "cell_type": "code",
   "execution_count": 1,
   "id": "5a0c516b-2696-423b-836a-0fd8276a7114",
   "metadata": {},
   "outputs": [
    {
     "name": "stdout",
     "output_type": "stream",
     "text": [
      "Hola Mundo\n"
     ]
    }
   ],
   "source": [
    "print(\"Hola Mundo\")"
   ]
  },
  {
   "cell_type": "code",
   "execution_count": 2,
   "id": "9d8d9db0-b9ea-4bab-b25c-93c963c35bdb",
   "metadata": {},
   "outputs": [
    {
     "data": {
      "text/plain": [
       "20"
      ]
     },
     "execution_count": 2,
     "metadata": {},
     "output_type": "execute_result"
    }
   ],
   "source": [
    "10+10"
   ]
  },
  {
   "cell_type": "code",
   "execution_count": 3,
   "id": "6deb7c32-d0d3-41b9-89f3-22feed2aef98",
   "metadata": {},
   "outputs": [
    {
     "data": {
      "text/plain": [
       "'Hola Mundo'"
      ]
     },
     "execution_count": 3,
     "metadata": {},
     "output_type": "execute_result"
    }
   ],
   "source": [
    "\"Hola Mundo\""
   ]
  },
  {
   "cell_type": "code",
   "execution_count": 4,
   "id": "bc35cce0-1ca2-4f09-bfa8-b68f683a5683",
   "metadata": {},
   "outputs": [],
   "source": [
    "a = 1"
   ]
  },
  {
   "cell_type": "code",
   "execution_count": 5,
   "id": "01ee5985-3590-4e7b-8580-6f98d355eef3",
   "metadata": {},
   "outputs": [],
   "source": [
    "b = \"1\""
   ]
  },
  {
   "cell_type": "code",
   "execution_count": 6,
   "id": "a9129a42-b3e8-4560-9bac-0641ac3fa827",
   "metadata": {},
   "outputs": [
    {
     "name": "stdout",
     "output_type": "stream",
     "text": [
      "1\n"
     ]
    }
   ],
   "source": [
    "print(b)"
   ]
  },
  {
   "cell_type": "code",
   "execution_count": 7,
   "id": "4d36f2c5-dec0-45ac-9d6e-9f6d7b191680",
   "metadata": {},
   "outputs": [
    {
     "data": {
      "text/plain": [
       "int"
      ]
     },
     "execution_count": 7,
     "metadata": {},
     "output_type": "execute_result"
    }
   ],
   "source": [
    "type(a)"
   ]
  },
  {
   "cell_type": "code",
   "execution_count": 8,
   "id": "e7855d61-91f3-434b-b3f4-cac4d349e24b",
   "metadata": {},
   "outputs": [
    {
     "data": {
      "text/plain": [
       "str"
      ]
     },
     "execution_count": 8,
     "metadata": {},
     "output_type": "execute_result"
    }
   ],
   "source": [
    "type(b)"
   ]
  },
  {
   "cell_type": "code",
   "execution_count": 9,
   "id": "51bafed0-6c1a-4b55-8966-a8fe6609e2fd",
   "metadata": {},
   "outputs": [
    {
     "data": {
      "text/plain": [
       "int"
      ]
     },
     "execution_count": 9,
     "metadata": {},
     "output_type": "execute_result"
    }
   ],
   "source": [
    "type(23)"
   ]
  },
  {
   "cell_type": "code",
   "execution_count": 10,
   "id": "0cc677c6-d7bc-4a80-a666-782b5ca780d3",
   "metadata": {},
   "outputs": [
    {
     "data": {
      "text/plain": [
       "float"
      ]
     },
     "execution_count": 10,
     "metadata": {},
     "output_type": "execute_result"
    }
   ],
   "source": [
    "type(3.12)"
   ]
  },
  {
   "cell_type": "code",
   "execution_count": 11,
   "id": "6c68fff0-afb7-4f17-8274-2e4610d3f38e",
   "metadata": {},
   "outputs": [
    {
     "data": {
      "text/plain": [
       "float"
      ]
     },
     "execution_count": 11,
     "metadata": {},
     "output_type": "execute_result"
    }
   ],
   "source": [
    "type(-3.12)\n",
    "type(0.000000312)\n",
    "type(3234.215415512)"
   ]
  },
  {
   "cell_type": "code",
   "execution_count": 12,
   "id": "0e37a2b4-032e-4c11-b6db-88a7d99f3118",
   "metadata": {},
   "outputs": [
    {
     "name": "stdout",
     "output_type": "stream",
     "text": [
      "<class 'float'>\n",
      "<class 'float'>\n",
      "<class 'float'>\n"
     ]
    }
   ],
   "source": [
    "print(type(-3.12))\n",
    "print(type(0.000000312))\n",
    "print(type(3234.215415512))"
   ]
  },
  {
   "cell_type": "code",
   "execution_count": 13,
   "id": "3ab98b08-4079-4ca6-b9ae-b7950d6c7565",
   "metadata": {},
   "outputs": [
    {
     "data": {
      "text/plain": [
       "(3+4j)"
      ]
     },
     "execution_count": 13,
     "metadata": {},
     "output_type": "execute_result"
    }
   ],
   "source": [
    "3+4J"
   ]
  },
  {
   "cell_type": "code",
   "execution_count": 14,
   "id": "24bfad07-f644-42d5-b12b-c9ed100c7f8c",
   "metadata": {},
   "outputs": [
    {
     "data": {
      "text/plain": [
       "complex"
      ]
     },
     "execution_count": 14,
     "metadata": {},
     "output_type": "execute_result"
    }
   ],
   "source": [
    "type(3+4J)"
   ]
  },
  {
   "cell_type": "code",
   "execution_count": 15,
   "id": "13315244-9e11-4a76-9144-c8b12da99a01",
   "metadata": {},
   "outputs": [
    {
     "data": {
      "text/plain": [
       "(3+2j)"
      ]
     },
     "execution_count": 15,
     "metadata": {},
     "output_type": "execute_result"
    }
   ],
   "source": [
    "complex(3,2)"
   ]
  },
  {
   "cell_type": "code",
   "execution_count": 16,
   "id": "b03a86e2-3453-49f6-9b41-518d2bd7b420",
   "metadata": {},
   "outputs": [],
   "source": [
    "a = complex(3,2)"
   ]
  },
  {
   "cell_type": "code",
   "execution_count": 17,
   "id": "1cc18565-b90c-4275-b89d-07c0b45a3649",
   "metadata": {},
   "outputs": [
    {
     "data": {
      "text/plain": [
       "complex"
      ]
     },
     "execution_count": 17,
     "metadata": {},
     "output_type": "execute_result"
    }
   ],
   "source": [
    "type(a)"
   ]
  },
  {
   "cell_type": "code",
   "execution_count": 20,
   "id": "cc0834a5-68aa-4e1c-aaf8-bc877c932235",
   "metadata": {},
   "outputs": [
    {
     "data": {
      "text/plain": [
       "7.0"
      ]
     },
     "execution_count": 20,
     "metadata": {},
     "output_type": "execute_result"
    }
   ],
   "source": [
    "2*3.5"
   ]
  },
  {
   "cell_type": "code",
   "execution_count": 21,
   "id": "c2208b2d-392a-45c2-80f9-7f8c199226b4",
   "metadata": {},
   "outputs": [
    {
     "data": {
      "text/plain": [
       "3.3333333333333335"
      ]
     },
     "execution_count": 21,
     "metadata": {},
     "output_type": "execute_result"
    }
   ],
   "source": [
    "10/3"
   ]
  },
  {
   "cell_type": "code",
   "execution_count": 22,
   "id": "c40bdb56-c5a0-48df-ac66-31e68c02855d",
   "metadata": {},
   "outputs": [
    {
     "data": {
      "text/plain": [
       "3"
      ]
     },
     "execution_count": 22,
     "metadata": {},
     "output_type": "execute_result"
    }
   ],
   "source": [
    "10 // 3"
   ]
  },
  {
   "cell_type": "code",
   "execution_count": 23,
   "id": "5f820a7a-ee51-42dd-b1c5-8576c941086f",
   "metadata": {},
   "outputs": [
    {
     "data": {
      "text/plain": [
       "1"
      ]
     },
     "execution_count": 23,
     "metadata": {},
     "output_type": "execute_result"
    }
   ],
   "source": [
    "10%3"
   ]
  },
  {
   "cell_type": "code",
   "execution_count": 24,
   "id": "4167c19c-3467-4770-b606-c7dfb39442d3",
   "metadata": {},
   "outputs": [],
   "source": [
    "a = 3 + 5J\n",
    "b = 2 + 2J"
   ]
  },
  {
   "cell_type": "code",
   "execution_count": 25,
   "id": "b36267a3-95a7-4b61-a04e-1ff71b60d386",
   "metadata": {},
   "outputs": [
    {
     "data": {
      "text/plain": [
       "(5+7j)"
      ]
     },
     "execution_count": 25,
     "metadata": {},
     "output_type": "execute_result"
    }
   ],
   "source": [
    "a + b"
   ]
  },
  {
   "cell_type": "code",
   "execution_count": 26,
   "id": "ed1fdf1b-bc3e-44d7-829c-9f23cb07209e",
   "metadata": {},
   "outputs": [],
   "source": [
    "num = \"1\""
   ]
  },
  {
   "cell_type": "code",
   "execution_count": 27,
   "id": "e025535e-e804-44f2-b869-6166c14624ca",
   "metadata": {},
   "outputs": [
    {
     "data": {
      "text/plain": [
       "'11'"
      ]
     },
     "execution_count": 27,
     "metadata": {},
     "output_type": "execute_result"
    }
   ],
   "source": [
    "num + num"
   ]
  },
  {
   "cell_type": "code",
   "execution_count": 28,
   "id": "7807165b-a1fe-4e02-82e6-007f5b08361c",
   "metadata": {},
   "outputs": [
    {
     "data": {
      "text/plain": [
       "2"
      ]
     },
     "execution_count": 28,
     "metadata": {},
     "output_type": "execute_result"
    }
   ],
   "source": [
    "1 + int(num)"
   ]
  },
  {
   "cell_type": "code",
   "execution_count": 29,
   "id": "9c7bbd3b-ca00-477f-86e9-7eb27b8f6991",
   "metadata": {},
   "outputs": [
    {
     "data": {
      "text/plain": [
       "25"
      ]
     },
     "execution_count": 29,
     "metadata": {},
     "output_type": "execute_result"
    }
   ],
   "source": [
    "5**2"
   ]
  },
  {
   "cell_type": "code",
   "execution_count": 30,
   "id": "86c74247-e4d5-4ce9-828e-782034388fea",
   "metadata": {},
   "outputs": [
    {
     "data": {
      "text/plain": [
       "5.0"
      ]
     },
     "execution_count": 30,
     "metadata": {},
     "output_type": "execute_result"
    }
   ],
   "source": [
    "25 ** 0.5"
   ]
  },
  {
   "cell_type": "code",
   "execution_count": 31,
   "id": "2d9e664e-2288-4c92-885a-9e79016e6457",
   "metadata": {},
   "outputs": [
    {
     "data": {
      "text/plain": [
       "2.924017738212866"
      ]
     },
     "execution_count": 31,
     "metadata": {},
     "output_type": "execute_result"
    }
   ],
   "source": [
    "25 ** (1/3)"
   ]
  },
  {
   "cell_type": "code",
   "execution_count": null,
   "id": "e938ac8f-47b1-4c03-bac0-0c7c0a07e2d5",
   "metadata": {},
   "outputs": [],
   "source": []
  }
 ],
 "metadata": {
  "kernelspec": {
   "display_name": "Python 3 (ipykernel)",
   "language": "python",
   "name": "python3"
  },
  "language_info": {
   "codemirror_mode": {
    "name": "ipython",
    "version": 3
   },
   "file_extension": ".py",
   "mimetype": "text/x-python",
   "name": "python",
   "nbconvert_exporter": "python",
   "pygments_lexer": "ipython3",
   "version": "3.13.5"
  }
 },
 "nbformat": 4,
 "nbformat_minor": 5
}
